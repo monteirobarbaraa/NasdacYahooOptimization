{
 "cells": [
  {
   "cell_type": "code",
   "execution_count": 1,
   "metadata": {},
   "outputs": [
    {
     "name": "stdout",
     "output_type": "stream",
     "text": [
      "3.9.7\n"
     ]
    }
   ],
   "source": [
    "from platform import python_version\n",
    "print(python_version())"
   ]
  },
  {
   "cell_type": "markdown",
   "metadata": {},
   "source": [
    "## Collecting the data"
   ]
  },
  {
   "cell_type": "code",
   "execution_count": 2,
   "metadata": {},
   "outputs": [],
   "source": [
    "!pip install -q -U watermark"
   ]
  },
  {
   "cell_type": "code",
   "execution_count": 3,
   "metadata": {},
   "outputs": [],
   "source": [
    "!pip install -q -U pandas_datareader"
   ]
  },
  {
   "cell_type": "code",
   "execution_count": 4,
   "metadata": {},
   "outputs": [],
   "source": [
    "# US holidays\n",
    "!pip install -q -U holidays"
   ]
  },
  {
   "cell_type": "code",
   "execution_count": 5,
   "metadata": {},
   "outputs": [],
   "source": [
    "# Imports\n",
    "import warnings\n",
    "warnings.simplefilter(action='ignore', category=FutureWarning)\n",
    "warnings.filterwarnings(\"ignore\", category=FutureWarning)\n",
    "import time\n",
    "# Dataframes\n",
    "import pandas as pd\n",
    "import numpy as np\n",
    "# To connect to the URL\n",
    "import requests\n",
    "import holidays\n",
    "import bs4\n",
    "import pandas_datareader\n",
    "from random import randint\n",
    "from datetime import date\n",
    "# Web Scrap.\n",
    "from bs4 import BeautifulSoup\n",
    "# To know the name of the companies\n",
    "from pandas_datareader import data as pdr"
   ]
  },
  {
   "cell_type": "markdown",
   "metadata": {},
   "source": [
    "### Yahoo Finance"
   ]
  },
  {
   "cell_type": "code",
   "execution_count": 6,
   "metadata": {},
   "outputs": [],
   "source": [
    "# ticker_list: code list of each company \n",
    "# list with the company's cotes\n",
    "# ticker : code of the company\n",
    "# list_of_df: list of codes\n",
    "def return_stock(ticker_list, start, end):\n",
    "    list_of_df = []\n",
    "    not_found = []\n",
    "    \n",
    "    for ticker in ticker_list:\n",
    "        try:\n",
    "            df = pdr.get_data_yahoo(ticker, start, end)\n",
    "            df = df.reset_index()\n",
    "            df.rename(columns = {'Date':'date'})\n",
    "            df['ticker'] = [ticker] * len(df)\n",
    "            list_of_df.append(df)\n",
    "        except ValueError:\n",
    "            print(\"Not found: \" + ticker)\n",
    "            not_found.append(ticker)\n",
    "    \n",
    "    return list_of_df, not_found"
   ]
  },
  {
   "cell_type": "markdown",
   "metadata": {},
   "source": [
    "### NASDAQ"
   ]
  },
  {
   "cell_type": "code",
   "execution_count": 7,
   "metadata": {},
   "outputs": [],
   "source": [
    "def scrape_nasdaq(ticker_list):\n",
    "    tckr_data = {}\n",
    "    count = 1\n",
    "    \n",
    "    for ticker in ticker_list:\n",
    "        print(\"Scraping count: \" + str(count))\n",
    "        \n",
    "        url = 'https://old.nasdaq.com/symbol/' + ticker + '/historical'\n",
    "        driver.get(url)\n",
    "        \n",
    "        # Collect data from 10 years\n",
    "        # ddlTimeFrame tag html\n",
    "        data_range = driver.find_elements_by_name('ddlTimeFrame')\n",
    "        \n",
    "        if len(data_range) > 0: # =0 if do not find ddlTimeFrame\n",
    "            for option in data_range[0].find_elements_by_tag_name('option'): # option: time frame in url\n",
    "                if option.text == '10 Years':\n",
    "                    option.click()\n",
    "                    break\n",
    "            time.sleep(5) # wait until page load the data\n",
    "            page_source = driver.page_source # save the data in page_source\n",
    "    \n",
    "            # Extraction data\n",
    "            soup = BeautifulSoup(page_source, 'lxml')\n",
    "    \n",
    "            # Defining the search rule in the data table\n",
    "            tags = soup.find_all('div', id = \"historicalContainer\")\n",
    "    \n",
    "            # Put the data in :\n",
    "            temp_data = []\n",
    "            # Loop:\n",
    "            for tag in tags:\n",
    "                rows = tag.findAll('tr')\n",
    "                for tr in rows:\n",
    "                    cols = tr.findAll('td')\n",
    "                    val = [tr.text for tr in cols]\n",
    "                    temp_data.append(val)\n",
    "            \n",
    "            # Cleaning te data\n",
    "            for i in range(len(temp_data)):\n",
    "                to_process = temp_data[i]\n",
    "    \n",
    "                for i in range(len(to_process)):\n",
    "                    temp = to_process[i]\n",
    "                    temp = temp.strip()\n",
    "                    to_process[i] = temp\n",
    "         \n",
    "            # Getting data\n",
    "            temp_data = temp_data[2:]\n",
    "            # Saving temporary data\n",
    "            if tckr_data.get(ticker) == None:\n",
    "                tckr_data[ticker] = temp_data # dictionary\n",
    "        \n",
    "            # Pause to avoid be blocked \n",
    "            print(\"Random Sleep\")\n",
    "            sleep(randint(2, 4))\n",
    "            count += 1\n",
    "        \n",
    "        else:\n",
    "            print(\"Not found\" + ticker)\n",
    "        \n",
    "    # Prepare lists\n",
    "    date = []\n",
    "    Open = []\n",
    "    high = []\n",
    "    low = []\n",
    "    close = []\n",
    "    volume = []\n",
    "    ticker = []\n",
    "\n",
    "    # Collect data & append\n",
    "    for key, value in tckr_data.items():\n",
    "        for data in value:\n",
    "            date.append(data[0].replace('/','-'))\n",
    "            Open.append(data[1])\n",
    "            high.append(data[2])\n",
    "            low.append(data[3])\n",
    "            close.append(data[4])\n",
    "            volume.append(data[5].replace(',',''))\n",
    "            ticker.append(key)  \n",
    "            \n",
    "    # Final dictionary \n",
    "    final_dict = {'date' : date, 'Open':Open, 'High':high, 'Low':low, 'Close':close, 'Volume':volume, 'ticker':ticker}\n",
    "    \n",
    "    # Convert to dataframe\n",
    "    df = pd.DataFrame(final_dict)\n",
    "    cols = ['date', 'Open', 'High', 'Low', 'Close', 'Volume', 'ticker']\n",
    "    df = df[cols]\n",
    "\n",
    "    return df"
   ]
  },
  {
   "cell_type": "markdown",
   "metadata": {},
   "source": [
    "### All together"
   ]
  },
  {
   "cell_type": "code",
   "execution_count": 8,
   "metadata": {},
   "outputs": [],
   "source": [
    "def get_stocks_data(ticker_set, start, end):\n",
    "    \n",
    "    # Yahoo Finance: stocks_1 \n",
    "    stocks_1, not_found = return_stock(ticker_set, start, end)\n",
    "    # If <=0 stocks were found in Yahoo Finance, if not:\n",
    "    if len(not_found) > 0:\n",
    "    \n",
    "        # Collect from Nasdaq\n",
    "        stocks = scrape_nasdaq(not_found)\n",
    "    \n",
    "        # Merging in dataframe\n",
    "        stocks_1 = pd.concat(stocks_1)\n",
    "\n",
    "        stocks_1 = stocks_1.rename(columns = {'Date' : 'date'})\n",
    "        stocks_1 = stocks_1[['date', 'Open', 'High', 'Low', 'Close', 'Volume', 'ticker']]\n",
    "        stocks_1['date'] = stocks_1['date'].dt.date\n",
    "\n",
    "        stocks = stocks.rename(columns = {'Ticker' : 'ticker'})\n",
    "        stocks[['Open', 'High', 'Low', 'Close', 'Volume']] = stocks[['Open', 'High', 'Low', 'Close', 'Volume']].astype(float)\n",
    "    \n",
    "        stocks_final = pd.concat([stocks_1, stocks])\n",
    "        return stocks_final\n",
    "    \n",
    "    else:\n",
    "        return pd.concat(stocks_1)"
   ]
  },
  {
   "cell_type": "code",
   "execution_count": 9,
   "metadata": {},
   "outputs": [],
   "source": [
    "# Stock code list\n",
    "tickers = ['AAPL', 'XOM' ,'VMC', 'BA', 'AMZN', 'TGT', 'WMT', 'KO', 'UNH', 'JPM', 'GOOGL', 'STT', 'MSFT', 'VZ', 'XEL', 'SPG']"
   ]
  },
  {
   "cell_type": "code",
   "execution_count": 10,
   "metadata": {},
   "outputs": [],
   "source": [
    "# Colleting price from 10 years\n",
    "df = get_stocks_data(tickers, start = '2009-01-01', end = '2019-12-31')"
   ]
  },
  {
   "cell_type": "code",
   "execution_count": 11,
   "metadata": {},
   "outputs": [
    {
     "data": {
      "text/html": [
       "<div>\n",
       "<style scoped>\n",
       "    .dataframe tbody tr th:only-of-type {\n",
       "        vertical-align: middle;\n",
       "    }\n",
       "\n",
       "    .dataframe tbody tr th {\n",
       "        vertical-align: top;\n",
       "    }\n",
       "\n",
       "    .dataframe thead th {\n",
       "        text-align: right;\n",
       "    }\n",
       "</style>\n",
       "<table border=\"1\" class=\"dataframe\">\n",
       "  <thead>\n",
       "    <tr style=\"text-align: right;\">\n",
       "      <th></th>\n",
       "      <th>Date</th>\n",
       "      <th>High</th>\n",
       "      <th>Low</th>\n",
       "      <th>Open</th>\n",
       "      <th>Close</th>\n",
       "      <th>Volume</th>\n",
       "      <th>Adj Close</th>\n",
       "      <th>ticker</th>\n",
       "    </tr>\n",
       "  </thead>\n",
       "  <tbody>\n",
       "    <tr>\n",
       "      <th>2380</th>\n",
       "      <td>2018-06-18</td>\n",
       "      <td>77.919998</td>\n",
       "      <td>76.190002</td>\n",
       "      <td>76.330002</td>\n",
       "      <td>77.120003</td>\n",
       "      <td>3341000.0</td>\n",
       "      <td>69.638611</td>\n",
       "      <td>TGT</td>\n",
       "    </tr>\n",
       "    <tr>\n",
       "      <th>1171</th>\n",
       "      <td>2013-08-28</td>\n",
       "      <td>67.290001</td>\n",
       "      <td>66.470001</td>\n",
       "      <td>66.750000</td>\n",
       "      <td>66.790001</td>\n",
       "      <td>1670500.0</td>\n",
       "      <td>53.592091</td>\n",
       "      <td>STT</td>\n",
       "    </tr>\n",
       "    <tr>\n",
       "      <th>1670</th>\n",
       "      <td>2015-08-21</td>\n",
       "      <td>93.050003</td>\n",
       "      <td>90.800003</td>\n",
       "      <td>92.500000</td>\n",
       "      <td>91.660004</td>\n",
       "      <td>1316700.0</td>\n",
       "      <td>85.993980</td>\n",
       "      <td>VMC</td>\n",
       "    </tr>\n",
       "    <tr>\n",
       "      <th>1676</th>\n",
       "      <td>2015-08-31</td>\n",
       "      <td>33.860001</td>\n",
       "      <td>33.220001</td>\n",
       "      <td>33.820000</td>\n",
       "      <td>33.730000</td>\n",
       "      <td>5646200.0</td>\n",
       "      <td>27.147259</td>\n",
       "      <td>XEL</td>\n",
       "    </tr>\n",
       "    <tr>\n",
       "      <th>1714</th>\n",
       "      <td>2015-10-23</td>\n",
       "      <td>37.200001</td>\n",
       "      <td>36.310001</td>\n",
       "      <td>37.070000</td>\n",
       "      <td>36.439999</td>\n",
       "      <td>3624600.0</td>\n",
       "      <td>29.614157</td>\n",
       "      <td>XEL</td>\n",
       "    </tr>\n",
       "  </tbody>\n",
       "</table>\n",
       "</div>"
      ],
      "text/plain": [
       "           Date       High        Low       Open      Close     Volume  \\\n",
       "2380 2018-06-18  77.919998  76.190002  76.330002  77.120003  3341000.0   \n",
       "1171 2013-08-28  67.290001  66.470001  66.750000  66.790001  1670500.0   \n",
       "1670 2015-08-21  93.050003  90.800003  92.500000  91.660004  1316700.0   \n",
       "1676 2015-08-31  33.860001  33.220001  33.820000  33.730000  5646200.0   \n",
       "1714 2015-10-23  37.200001  36.310001  37.070000  36.439999  3624600.0   \n",
       "\n",
       "      Adj Close ticker  \n",
       "2380  69.638611    TGT  \n",
       "1171  53.592091    STT  \n",
       "1670  85.993980    VMC  \n",
       "1676  27.147259    XEL  \n",
       "1714  29.614157    XEL  "
      ]
     },
     "execution_count": 11,
     "metadata": {},
     "output_type": "execute_result"
    }
   ],
   "source": [
    "df.sample(5)"
   ]
  },
  {
   "cell_type": "code",
   "execution_count": 12,
   "metadata": {},
   "outputs": [],
   "source": [
    "# Removing Volume and Adj Close from the table\n",
    "df = df[['Date', 'Open', 'High', 'Low', 'Close', 'ticker']]"
   ]
  },
  {
   "cell_type": "code",
   "execution_count": 13,
   "metadata": {},
   "outputs": [
    {
     "data": {
      "text/html": [
       "<div>\n",
       "<style scoped>\n",
       "    .dataframe tbody tr th:only-of-type {\n",
       "        vertical-align: middle;\n",
       "    }\n",
       "\n",
       "    .dataframe tbody tr th {\n",
       "        vertical-align: top;\n",
       "    }\n",
       "\n",
       "    .dataframe thead th {\n",
       "        text-align: right;\n",
       "    }\n",
       "</style>\n",
       "<table border=\"1\" class=\"dataframe\">\n",
       "  <thead>\n",
       "    <tr style=\"text-align: right;\">\n",
       "      <th></th>\n",
       "      <th>Date</th>\n",
       "      <th>Open</th>\n",
       "      <th>High</th>\n",
       "      <th>Low</th>\n",
       "      <th>Close</th>\n",
       "      <th>ticker</th>\n",
       "    </tr>\n",
       "  </thead>\n",
       "  <tbody>\n",
       "    <tr>\n",
       "      <th>428</th>\n",
       "      <td>2010-09-15</td>\n",
       "      <td>88.410156</td>\n",
       "      <td>90.188148</td>\n",
       "      <td>88.165565</td>\n",
       "      <td>89.764816</td>\n",
       "      <td>SPG</td>\n",
       "    </tr>\n",
       "    <tr>\n",
       "      <th>72</th>\n",
       "      <td>2009-04-17</td>\n",
       "      <td>4.327857</td>\n",
       "      <td>4.437500</td>\n",
       "      <td>4.294643</td>\n",
       "      <td>4.407857</td>\n",
       "      <td>AAPL</td>\n",
       "    </tr>\n",
       "    <tr>\n",
       "      <th>2171</th>\n",
       "      <td>2017-08-17</td>\n",
       "      <td>46.119999</td>\n",
       "      <td>46.330002</td>\n",
       "      <td>45.849998</td>\n",
       "      <td>45.860001</td>\n",
       "      <td>KO</td>\n",
       "    </tr>\n",
       "    <tr>\n",
       "      <th>1169</th>\n",
       "      <td>2013-08-26</td>\n",
       "      <td>64.529999</td>\n",
       "      <td>64.900002</td>\n",
       "      <td>64.099998</td>\n",
       "      <td>64.129997</td>\n",
       "      <td>TGT</td>\n",
       "    </tr>\n",
       "    <tr>\n",
       "      <th>387</th>\n",
       "      <td>2010-07-19</td>\n",
       "      <td>49.720001</td>\n",
       "      <td>49.810001</td>\n",
       "      <td>49.090000</td>\n",
       "      <td>49.520000</td>\n",
       "      <td>WMT</td>\n",
       "    </tr>\n",
       "  </tbody>\n",
       "</table>\n",
       "</div>"
      ],
      "text/plain": [
       "           Date       Open       High        Low      Close ticker\n",
       "428  2010-09-15  88.410156  90.188148  88.165565  89.764816    SPG\n",
       "72   2009-04-17   4.327857   4.437500   4.294643   4.407857   AAPL\n",
       "2171 2017-08-17  46.119999  46.330002  45.849998  45.860001     KO\n",
       "1169 2013-08-26  64.529999  64.900002  64.099998  64.129997    TGT\n",
       "387  2010-07-19  49.720001  49.810001  49.090000  49.520000    WMT"
      ]
     },
     "execution_count": 13,
     "metadata": {},
     "output_type": "execute_result"
    }
   ],
   "source": [
    "df.sample(5)"
   ]
  },
  {
   "cell_type": "code",
   "execution_count": 15,
   "metadata": {},
   "outputs": [],
   "source": [
    "# csv\n",
    "df.to_csv('dados/stocks.csv')"
   ]
  },
  {
   "cell_type": "code",
   "execution_count": null,
   "metadata": {},
   "outputs": [],
   "source": []
  }
 ],
 "metadata": {
  "kernelspec": {
   "display_name": "Python 3 (ipykernel)",
   "language": "python",
   "name": "python3"
  },
  "language_info": {
   "codemirror_mode": {
    "name": "ipython",
    "version": 3
   },
   "file_extension": ".py",
   "mimetype": "text/x-python",
   "name": "python",
   "nbconvert_exporter": "python",
   "pygments_lexer": "ipython3",
   "version": "3.9.7"
  }
 },
 "nbformat": 4,
 "nbformat_minor": 2
}
